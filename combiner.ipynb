{
 "cells": [
  {
   "cell_type": "code",
   "execution_count": 251,
   "metadata": {},
   "outputs": [
    {
     "name": "stdout",
     "output_type": "stream",
     "text": [
      "2.11.0\n"
     ]
    }
   ],
   "source": [
    "import tensorflow as tf\n",
    "print(tf.__version__)\n",
    "from tensorflow.keras.applications import ResNet50\n",
    "from tensorflow.keras import Sequential\n",
    "from tensorflow.keras.layers import *\n",
    "from keras.layers import Input, Lambda, Dense, Flatten,Dropout,BatchNormalization\n",
    "from keras.models import *\n",
    "from keras.applications.vgg19 import VGG19\n",
    "from keras.applications.vgg19 import preprocess_input\n",
    "from keras.preprocessing import image\n",
    "from keras.preprocessing.image import ImageDataGenerator\n",
    "from keras.models import Sequential\n",
    "import keras\n",
    "import numpy as np\n",
    "import pandas as pd\n",
    "import os\n",
    "import cv2\n",
    "import matplotlib.pyplot as plt\n",
    "import rasterio\n",
    "from keras.layers import Conv2D,MaxPooling2D,Activation,Dropout,Flatten,Dense\n",
    "from keras.preprocessing.image import ImageDataGenerator\n",
    "from glob import glob\n",
    "import sys\n",
    "import PIL\n",
    "from PIL import Image"
   ]
  },
  {
   "cell_type": "code",
   "execution_count": 252,
   "metadata": {},
   "outputs": [],
   "source": [
    "p_exe1a=\"/home/avni/Desktop/gp/dataset/EXE-1a_m4/EXE-1a_m4/all/train/\"\n",
    "p_ros6=\"/home/avni/Desktop/gp/dataset/ROS-6_m3/ROS-6_m3/all/train/\"\n",
    "p_ros9=\"/home/avni/Desktop/gp/dataset/ROS-9_m4/ROS-9_m4/all/train/\"\n",
    "p_ros12=\"/home/avni/Desktop/gp/dataset/ROS-12_m4/ROS-12_m4/all/train/\"\n",
    "p_ros13=\"/home/avni/Desktop/gp/dataset/ROS-13_m3/ROS-13_m3/all/train/\"\n",
    "p_ros23=\"/home/avni/Desktop/gp/dataset/ROS-23_m2/ROS-23_m2/all/train/\""
   ]
  },
  {
   "cell_type": "code",
   "execution_count": 253,
   "metadata": {},
   "outputs": [],
   "source": [
    "p_exe1a_test=\"/home/avni/Desktop/gp/dataset/EXE-1a_m4/EXE-1a_m4/all/test/\"\n",
    "p_ros6_test=\"/home/avni/Desktop/gp/dataset/ROS-6_m3/ROS-6_m3/all/test/\"\n",
    "p_ros9_test=\"/home/avni/Desktop/gp/dataset/ROS-9_m4/ROS-9_m4/all/test/\"\n",
    "p_ros12_test=\"/home/avni/Desktop/gp/dataset/ROS-12_m4/ROS-12_m4/all/test/\"\n",
    "p_ros13_test=\"/home/avni/Desktop/gp/dataset/ROS-13_m3/ROS-13_m3/all/test/\"\n",
    "p_ros23_test=\"/home/avni/Desktop/gp/dataset/ROS-23_m2/ROS-23_m2/all/test/\""
   ]
  },
  {
   "cell_type": "code",
   "execution_count": 254,
   "metadata": {},
   "outputs": [],
   "source": [
    "train_path=\"/home/avni/Desktop/gp/wspace/ch4/train/\"\n",
    "test_path=\"/home/avni/Desktop/gp/wspace/ch4/test/\""
   ]
  },
  {
   "cell_type": "code",
   "execution_count": 255,
   "metadata": {},
   "outputs": [],
   "source": [
    "exe1a_ch4, exe1a_ch5, exe1a_ch6 = ([] for i in range(3))\n",
    "ros6_ch4, ros6_ch5, ros6_ch6 = ([] for i in range(3))\n",
    "ros9_ch4, ros9_ch5, ros9_ch6 = ([] for i in range(3))\n",
    "ros12_ch4, ros12_ch5, ros12_ch6 = ([] for i in range(3))\n",
    "ros13_ch4, ros13_ch5, ros13_ch6 = ([] for i in range(3))\n",
    "ros23_ch4, ros23_ch5, ros23_ch6 = ([] for i in range(3))"
   ]
  },
  {
   "cell_type": "code",
   "execution_count": 256,
   "metadata": {},
   "outputs": [],
   "source": [
    "exe1a_ch4_test, exe1a_ch5_test, exe1a_ch6_test = ([] for i in range(3))\n",
    "ros6_ch4_test, ros6_ch5_test, ros6_ch6_test = ([] for i in range(3))\n",
    "ros9_ch4_test, ros9_ch5_test, ros9_ch6_test = ([] for i in range(3))\n",
    "ros12_ch4_test, ros12_ch5_test, ros12_ch6_test = ([] for i in range(3))\n",
    "ros13_ch4_test, ros13_ch5_test, ros13_ch6_test = ([] for i in range(3))\n",
    "ros23_ch4_test, ros23_ch5_test, ros23_ch6_test = ([] for i in range(3))"
   ]
  },
  {
   "cell_type": "code",
   "execution_count": 257,
   "metadata": {},
   "outputs": [],
   "source": [
    "exe1a_rgb=[]\n",
    "ros6_rgb=[]\n",
    "ros9_rgb=[]\n",
    "ros12_rgb=[]\n",
    "ros13_rgb=[]\n",
    "ros23_rgb=[]"
   ]
  },
  {
   "cell_type": "code",
   "execution_count": 258,
   "metadata": {},
   "outputs": [],
   "source": [
    "exe1a_rgb_test=[]\n",
    "ros6_rgb_test=[]\n",
    "ros9_rgb_test=[]\n",
    "ros12_rgb_test=[]\n",
    "ros13_rgb_test=[]\n",
    "ros23_rgb_test=[]"
   ]
  },
  {
   "cell_type": "code",
   "execution_count": 259,
   "metadata": {},
   "outputs": [],
   "source": [
    "norm_exe1a_rgb=[]\n",
    "norm_ros6_rgb=[]\n",
    "norm_ros9_rgb=[]\n",
    "norm_ros12_rgb=[]\n",
    "norm_ros13_rgb=[]\n",
    "norm_ros23_rgb=[]"
   ]
  },
  {
   "cell_type": "code",
   "execution_count": 260,
   "metadata": {},
   "outputs": [],
   "source": [
    "norm_exe1a_rgb_test=[]\n",
    "norm_ros6_rgb_test=[]\n",
    "norm_ros9_rgb_test=[]\n",
    "norm_ros12_rgb_test=[]\n",
    "norm_ros13_rgb_test=[]\n",
    "norm_ros23_rgb_test=[]"
   ]
  },
  {
   "cell_type": "code",
   "execution_count": 261,
   "metadata": {},
   "outputs": [],
   "source": [
    "#data will be stored as numpy array\n",
    "def store_data(path,ch4,ch5,ch6):\n",
    "    for file in sorted(os.listdir(path),reverse=True):\n",
    "        image_path=path+file\n",
    "        img=rasterio.open(image_path)\n",
    "        img_arr=img.read(1)\n",
    "        img_arr=cv2.resize(img_arr,(32,64))\n",
    "        if 'Ch4' in file:\n",
    "            ch4.append(img_arr)\n",
    "        if 'Ch5' in file:\n",
    "            ch5.append(img_arr)\n",
    "        if 'Ch6' in file:\n",
    "            ch6.append(img_arr)\n",
    "        img.close()\n",
    "\n",
    "    ch4 = np.array(ch4)\n",
    "    ch5 = np.array(ch5)\n",
    "    ch6 = np.array(ch6)"
   ]
  },
  {
   "cell_type": "code",
   "execution_count": 262,
   "metadata": {},
   "outputs": [],
   "source": [
    "def rgb_converter(cellrgb,ch4,ch5,ch6):\n",
    "    a=0\n",
    "    for idx in range(len(ch4)):\n",
    "        r=ch4[idx]\n",
    "        g=ch5[idx]\n",
    "        b=ch6[idx]\n",
    "        cellrgb.append(np.dstack((r,g,b)))  # stacks 3 h x w arrays -> h x w x 3\n",
    "    cellrgb = np.array(cellrgb)\n",
    "    return cellrgb"
   ]
  },
  {
   "cell_type": "code",
   "execution_count": 263,
   "metadata": {},
   "outputs": [
    {
     "name": "stderr",
     "output_type": "stream",
     "text": [
      "/home/avni/miniconda3/envs/tf/lib/python3.9/site-packages/rasterio/__init__.py:304: NotGeoreferencedWarning: Dataset has no geotransform, gcps, or rpcs. The identity matrix will be returned.\n",
      "  dataset = DatasetReader(path, driver=driver, sharing=sharing, **kwargs)\n"
     ]
    }
   ],
   "source": [
    "#storing and combining training data\n",
    "store_data(p_exe1a,exe1a_ch4,exe1a_ch5,exe1a_ch6)\n",
    "store_data(p_ros6,ros6_ch4,ros6_ch5,ros6_ch6)\n",
    "store_data(p_ros9,ros9_ch4,ros9_ch5,ros9_ch6)\n",
    "store_data(p_ros12,ros12_ch4,ros12_ch5,ros12_ch6)\n",
    "store_data(p_ros13,ros13_ch4,ros13_ch5,ros13_ch6)\n",
    "store_data(p_ros23,ros23_ch4,ros23_ch5,ros23_ch6)\n",
    "\n",
    "exe1a_rgb   =  rgb_converter(exe1a_rgb,exe1a_ch4,exe1a_ch5,exe1a_ch6)\n",
    "ros6_rgb    =   rgb_converter(ros6_rgb,ros6_ch4,ros6_ch5,ros6_ch6)\n",
    "ros9_rgb    =   rgb_converter(ros9_rgb,ros9_ch4,ros9_ch5,ros9_ch6)\n",
    "ros12_rgb   =  rgb_converter(ros12_rgb,ros12_ch4,ros12_ch5,ros12_ch6)\n",
    "ros13_rgb   =  rgb_converter(ros13_rgb,ros13_ch4,ros13_ch5,ros13_ch6)\n",
    "ros23_rgb   =  rgb_converter(ros23_rgb,ros23_ch4,ros23_ch5,ros23_ch6)"
   ]
  },
  {
   "cell_type": "code",
   "execution_count": 264,
   "metadata": {},
   "outputs": [],
   "source": [
    "#storing and combining test data\n",
    "store_data(p_exe1a_test,exe1a_ch4_test,exe1a_ch5_test,exe1a_ch6_test)\n",
    "store_data(p_ros6_test,ros6_ch4_test,ros6_ch5_test,ros6_ch6_test)\n",
    "store_data(p_ros9_test,ros9_ch4_test,ros9_ch5_test,ros9_ch6_test)\n",
    "store_data(p_ros12_test,ros12_ch4_test,ros12_ch5_test,ros12_ch6_test)\n",
    "store_data(p_ros13_test,ros13_ch4_test,ros13_ch5_test,ros13_ch6_test)\n",
    "store_data(p_ros23_test,ros23_ch4_test,ros23_ch5_test,ros23_ch6_test)\n",
    "\n",
    "\n",
    "exe1a_rgb_test   =  rgb_converter(exe1a_rgb_test,exe1a_ch4_test,exe1a_ch5_test,exe1a_ch6_test)\n",
    "ros6_rgb_test    =  rgb_converter(ros6_rgb_test,ros6_ch4_test,ros6_ch5_test,ros6_ch6_test)\n",
    "ros9_rgb_test    =  rgb_converter(ros9_rgb_test,ros9_ch4_test,ros9_ch5_test,ros9_ch6_test)\n",
    "ros12_rgb_test   =  rgb_converter(ros12_rgb_test,ros12_ch4_test,ros12_ch5_test,ros12_ch6_test)\n",
    "ros13_rgb_test   =  rgb_converter(ros13_rgb_test,ros13_ch4_test,ros13_ch5_test,ros13_ch6_test)\n",
    "ros23_rgb_test   =  rgb_converter(ros23_rgb_test,ros23_ch4_test,ros23_ch5_test,ros23_ch6_test)"
   ]
  },
  {
   "cell_type": "code",
   "execution_count": 265,
   "metadata": {},
   "outputs": [],
   "source": [
    "def normalizer(cellType,normalized_cells):\n",
    "        for down in cellType:\n",
    "                norm=np.zeros((64,32,3),np.float32)\n",
    "                norm_rgb=np.zeros((64,32,3),np.uint8)\n",
    "\n",
    "                r=down[:,:,0]\n",
    "                g=down[:,:,1]\n",
    "                b=down[:,:,2]\n",
    "\n",
    "                sum=b+g+r\n",
    "\n",
    "                norm[:,:,0]=r/sum*255.0\n",
    "                norm[:,:,1]=g/sum*255.0\n",
    "                norm[:,:,2]=b/sum*255.0\n",
    "\n",
    "                norm_rgb=cv2.convertScaleAbs(norm)\n",
    "                normalized_cells.append(norm_rgb)\n"
   ]
  },
  {
   "cell_type": "code",
   "execution_count": 266,
   "metadata": {},
   "outputs": [],
   "source": [
    "normalizer(exe1a_rgb,norm_exe1a_rgb)\n",
    "normalizer(ros6_rgb,norm_ros6_rgb)\n",
    "normalizer(ros9_rgb,norm_ros9_rgb)\n",
    "normalizer(ros12_rgb,norm_ros12_rgb)\n",
    "normalizer(ros13_rgb,norm_ros13_rgb)\n",
    "normalizer(ros23_rgb,norm_ros23_rgb)"
   ]
  },
  {
   "cell_type": "code",
   "execution_count": 267,
   "metadata": {},
   "outputs": [],
   "source": [
    "normalizer(exe1a_rgb_test,norm_exe1a_rgb_test)\n",
    "normalizer(ros6_rgb_test,norm_ros6_rgb_test)\n",
    "normalizer(ros9_rgb_test,norm_ros9_rgb_test)\n",
    "normalizer(ros12_rgb_test,norm_ros12_rgb_test)\n",
    "normalizer(ros13_rgb_test,norm_ros13_rgb_test)\n",
    "normalizer(ros23_rgb_test,norm_ros23_rgb_test)"
   ]
  },
  {
   "cell_type": "code",
   "execution_count": 268,
   "metadata": {},
   "outputs": [],
   "source": [
    "#below code saves the training rgb images to their positions as jpg"
   ]
  },
  {
   "cell_type": "code",
   "execution_count": 269,
   "metadata": {},
   "outputs": [],
   "source": [
    "from PIL import Image\n",
    "a=0\n",
    "for img in norm_exe1a_rgb:\n",
    "    jpg = Image.fromarray(img, \"RGB\")\n",
    "    jpg.save(f\"/home/avni/Desktop/rgb_jpg/rgb/train/EXE-1a_m4/{a}.jpg\")   \n",
    "    a+=1"
   ]
  },
  {
   "cell_type": "code",
   "execution_count": 270,
   "metadata": {},
   "outputs": [],
   "source": [
    "from PIL import Image\n",
    "a=0\n",
    "for img in norm_ros6_rgb:\n",
    "    jpg = Image.fromarray(img, \"RGB\")\n",
    "    jpg.save(f\"/home/avni/Desktop/rgb_jpg/rgb/train/ROS-6_m3/{a}.jpg\")   \n",
    "    a+=1"
   ]
  },
  {
   "cell_type": "code",
   "execution_count": 271,
   "metadata": {},
   "outputs": [],
   "source": [
    "from PIL import Image\n",
    "a=0\n",
    "for img in norm_ros9_rgb:\n",
    "    jpg = Image.fromarray(img, \"RGB\")\n",
    "    jpg.save(f\"/home/avni/Desktop/rgb_jpg/rgb/train/ROS-9_m4/{a}.jpg\")   \n",
    "    a+=1"
   ]
  },
  {
   "cell_type": "code",
   "execution_count": 272,
   "metadata": {},
   "outputs": [],
   "source": [
    "from PIL import Image\n",
    "a=0\n",
    "for img in norm_ros12_rgb:\n",
    "    jpg = Image.fromarray(img, \"RGB\")\n",
    "    jpg.save(f\"/home/avni/Desktop/rgb_jpg/rgb/train/ROS-12_m4/{a}.jpg\")   \n",
    "    a+=1"
   ]
  },
  {
   "cell_type": "code",
   "execution_count": 273,
   "metadata": {},
   "outputs": [],
   "source": [
    "from PIL import Image\n",
    "a=0\n",
    "for img in norm_ros13_rgb:\n",
    "    jpg = Image.fromarray(img, \"RGB\")\n",
    "    jpg.save(f\"/home/avni/Desktop/rgb_jpg/rgb/train/ROS-13_m3/{a}.jpg\")   \n",
    "    a+=1"
   ]
  },
  {
   "cell_type": "code",
   "execution_count": 274,
   "metadata": {},
   "outputs": [],
   "source": [
    "from PIL import Image\n",
    "a=0\n",
    "for img in norm_ros23_rgb:\n",
    "    jpg = Image.fromarray(img, \"RGB\")\n",
    "    jpg.save(f\"/home/avni/Desktop/rgb_jpg/rgb/train/ROS-23_m2/{a}.jpg\")   \n",
    "    a+=1"
   ]
  },
  {
   "cell_type": "code",
   "execution_count": 275,
   "metadata": {},
   "outputs": [],
   "source": [
    "#below code saves the testing rgb images to their positions as jpg"
   ]
  },
  {
   "cell_type": "code",
   "execution_count": 276,
   "metadata": {},
   "outputs": [],
   "source": [
    "from PIL import Image\n",
    "a=0\n",
    "for img in norm_exe1a_rgb_test:\n",
    "    jpg = Image.fromarray(img, \"RGB\")\n",
    "    jpg.save(f\"/home/avni/Desktop/rgb_jpg/rgb/test/EXE-1a_m4/{a}.jpg\")   \n",
    "    a+=1"
   ]
  },
  {
   "cell_type": "code",
   "execution_count": 277,
   "metadata": {},
   "outputs": [],
   "source": [
    "from PIL import Image\n",
    "a=0\n",
    "for img in norm_ros6_rgb_test:\n",
    "    jpg = Image.fromarray(img, \"RGB\")\n",
    "    jpg.save(f\"/home/avni/Desktop/rgb_jpg/rgb/test/ROS-6_m3/{a}.jpg\")   \n",
    "    a+=1"
   ]
  },
  {
   "cell_type": "code",
   "execution_count": 278,
   "metadata": {},
   "outputs": [],
   "source": [
    "from PIL import Image\n",
    "a=0\n",
    "for img in norm_ros9_rgb_test:\n",
    "    jpg = Image.fromarray(img, \"RGB\")\n",
    "    jpg.save(f\"/home/avni/Desktop/rgb_jpg/rgb/test/ROS-9_m4/{a}.jpg\")   \n",
    "    a+=1"
   ]
  },
  {
   "cell_type": "code",
   "execution_count": 279,
   "metadata": {},
   "outputs": [],
   "source": [
    "from PIL import Image\n",
    "a=0\n",
    "for img in norm_ros12_rgb_test:\n",
    "    jpg = Image.fromarray(img, \"RGB\")\n",
    "    jpg.save(f\"/home/avni/Desktop/rgb_jpg/rgb/test/ROS-12_m4/{a}.jpg\")   \n",
    "    a+=1"
   ]
  },
  {
   "cell_type": "code",
   "execution_count": 280,
   "metadata": {},
   "outputs": [],
   "source": [
    "from PIL import Image\n",
    "a=0\n",
    "for img in norm_ros13_rgb_test:\n",
    "    jpg = Image.fromarray(img, \"RGB\")\n",
    "    jpg.save(f\"/home/avni/Desktop/rgb_jpg/rgb/test/ROS-13_m3/{a}.jpg\")   \n",
    "    a+=1"
   ]
  },
  {
   "cell_type": "code",
   "execution_count": 281,
   "metadata": {},
   "outputs": [],
   "source": [
    "from PIL import Image\n",
    "a=0\n",
    "for img in norm_ros23_rgb_test:\n",
    "    jpg = Image.fromarray(img, \"RGB\")\n",
    "    jpg.save(f\"/home/avni/Desktop/rgb_jpg/rgb/test/ROS-23_m2/{a}.jpg\")   \n",
    "    a+=1"
   ]
  }
 ],
 "metadata": {
  "kernelspec": {
   "display_name": "tf",
   "language": "python",
   "name": "python3"
  },
  "language_info": {
   "codemirror_mode": {
    "name": "ipython",
    "version": 3
   },
   "file_extension": ".py",
   "mimetype": "text/x-python",
   "name": "python",
   "nbconvert_exporter": "python",
   "pygments_lexer": "ipython3",
   "version": "3.9.15"
  },
  "orig_nbformat": 4,
  "vscode": {
   "interpreter": {
    "hash": "b593b8b50c34369e4b8962c8b4bb01b80f3d680a6d3fd77992da7f7d3790431d"
   }
  }
 },
 "nbformat": 4,
 "nbformat_minor": 2
}
