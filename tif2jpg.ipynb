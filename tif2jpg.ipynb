{
 "cells": [
  {
   "cell_type": "code",
   "execution_count": 103,
   "metadata": {},
   "outputs": [
    {
     "name": "stdout",
     "output_type": "stream",
     "text": [
      "2.11.0\n"
     ]
    }
   ],
   "source": [
    "import tensorflow as tf\n",
    "print(tf.__version__)"
   ]
  },
  {
   "cell_type": "code",
   "execution_count": 104,
   "metadata": {},
   "outputs": [],
   "source": [
    "from tensorflow.keras.applications import ResNet50\n",
    "from tensorflow.keras import Sequential\n",
    "from tensorflow.keras.layers import *\n",
    "from keras.layers import Input, Lambda, Dense, Flatten,Dropout,BatchNormalization\n",
    "from keras.models import *\n",
    "from keras.applications.vgg19 import VGG19\n",
    "from keras.applications.vgg19 import preprocess_input\n",
    "from keras.preprocessing import image\n",
    "from keras.preprocessing.image import ImageDataGenerator\n",
    "from keras.models import Sequential\n",
    "import keras\n",
    "import numpy as np\n",
    "import pandas as pd\n",
    "import os\n",
    "import cv2\n",
    "import matplotlib.pyplot as plt\n",
    "import rasterio\n",
    "from keras.layers import Conv2D,MaxPooling2D,Activation,Dropout,Flatten,Dense\n",
    "from keras.preprocessing.image import ImageDataGenerator\n",
    "from glob import glob\n",
    "import sys\n",
    "import PIL\n",
    "from PIL import Image"
   ]
  },
  {
   "cell_type": "code",
   "execution_count": 105,
   "metadata": {},
   "outputs": [],
   "source": [
    "p_exe1a=\"/home/avni/Desktop/gp/dataset/EXE-1a_m4/EXE-1a_m4/all/train/\"\n",
    "p_ros6=\"/home/avni/Desktop/gp/dataset/ROS-6_m3/ROS-6_m3/all/train/\"\n",
    "p_ros9=\"/home/avni/Desktop/gp/dataset/ROS-9_m4/ROS-9_m4/all/train/\"\n",
    "p_ros12=\"/home/avni/Desktop/gp/dataset/ROS-12_m4/ROS-12_m4/all/train/\"\n",
    "p_ros13=\"/home/avni/Desktop/gp/dataset/ROS-13_m3/ROS-13_m3/all/train/\"\n",
    "p_ros23=\"/home/avni/Desktop/gp/dataset/ROS-23_m2/ROS-23_m2/all/train/\""
   ]
  },
  {
   "cell_type": "code",
   "execution_count": 106,
   "metadata": {},
   "outputs": [],
   "source": [
    "p_exe1a_test=\"/home/avni/Desktop/gp/dataset/EXE-1a_m4/EXE-1a_m4/all/test/\"\n",
    "p_ros6_test=\"/home/avni/Desktop/gp/dataset/ROS-6_m3/ROS-6_m3/all/test/\"\n",
    "p_ros9_test=\"/home/avni/Desktop/gp/dataset/ROS-9_m4/ROS-9_m4/all/test/\"\n",
    "p_ros12_test=\"/home/avni/Desktop/gp/dataset/ROS-12_m4/ROS-12_m4/all/test/\"\n",
    "p_ros13_test=\"/home/avni/Desktop/gp/dataset/ROS-13_m3/ROS-13_m3/all/test/\"\n",
    "p_ros23_test=\"/home/avni/Desktop/gp/dataset/ROS-23_m2/ROS-23_m2/all/test/\""
   ]
  },
  {
   "cell_type": "code",
   "execution_count": 107,
   "metadata": {},
   "outputs": [],
   "source": [
    "train_path=\"/home/avni/Desktop/gp/wspace/ch4/train/\"\n",
    "test_path=\"/home/avni/Desktop/gp/wspace/ch4/test/\""
   ]
  },
  {
   "cell_type": "code",
   "execution_count": 108,
   "metadata": {},
   "outputs": [],
   "source": [
    "exe1a_ch4, exe1a_ch5, exe1a_ch6 = ([] for i in range(3))\n",
    "ros6_ch4, ros6_ch5, ros6_ch6 = ([] for i in range(3))\n",
    "ros9_ch4, ros9_ch5, ros9_ch6 = ([] for i in range(3))\n",
    "ros12_ch4, ros12_ch5, ros12_ch6 = ([] for i in range(3))\n",
    "ros13_ch4, ros13_ch5, ros13_ch6 = ([] for i in range(3))\n",
    "ros23_ch4, ros23_ch5, ros23_ch6 = ([] for i in range(3))"
   ]
  },
  {
   "cell_type": "code",
   "execution_count": 109,
   "metadata": {},
   "outputs": [],
   "source": [
    "exe1a_ch4_test, exe1a_ch5_test, exe1a_ch6_test = ([] for i in range(3))\n",
    "ros6_ch4_test, ros6_ch5_test, ros6_ch6_test = ([] for i in range(3))\n",
    "ros9_ch4_test, ros9_ch5_test, ros9_ch6_test = ([] for i in range(3))\n",
    "ros12_ch4_test, ros12_ch5_test, ros12_ch6_test = ([] for i in range(3))\n",
    "ros13_ch4_test, ros13_ch5_test, ros13_ch6_test = ([] for i in range(3))\n",
    "ros23_ch4_test, ros23_ch5_test, ros23_ch6_test = ([] for i in range(3))"
   ]
  },
  {
   "cell_type": "code",
   "execution_count": 110,
   "metadata": {},
   "outputs": [],
   "source": [
    "exe1a_ch4_rgb, exe1a_ch5_rgb, exe1a_ch6_rgb = ([] for i in range(3))\n",
    "ros6_ch4_rgb, ros6_ch5_rgb, ros6_ch6_rgb = ([] for i in range(3))\n",
    "ros9_ch4_rgb, ros9_ch5_rgb, ros9_ch6_rgb = ([] for i in range(3))\n",
    "ros12_ch4_rgb, ros12_ch5_rgb, ros12_ch6_rgb = ([] for i in range(3))\n",
    "ros13_ch4_rgb, ros13_ch5_rgb, ros13_ch6_rgb = ([] for i in range(3))\n",
    "ros23_ch4_rgb, ros23_ch5_rgb, ros23_ch6_rgb = ([] for i in range(3))"
   ]
  },
  {
   "cell_type": "code",
   "execution_count": 111,
   "metadata": {},
   "outputs": [],
   "source": [
    "exe1a_ch4_rgb_test, exe1a_ch5_rgb_test, exe1a_ch6_rgb_test = ([] for i in range(3))\n",
    "ros6_ch4_rgb_test, ros6_ch5_rgb_test, ros6_ch6_rgb_test = ([] for i in range(3))\n",
    "ros9_ch4_rgb_test, ros9_ch5_rgb_test, ros9_ch6_rgb_test = ([] for i in range(3))\n",
    "ros12_ch4_rgb_test, ros12_ch5_rgb_test, ros12_ch6_rgb_test = ([] for i in range(3))\n",
    "ros13_ch4_rgb_test, ros13_ch5_rgb_test, ros13_ch6_rgb_test = ([] for i in range(3))\n",
    "ros23_ch4_rgb_test, ros23_ch5_rgb_test, ros23_ch6_rgb_test = ([] for i in range(3))"
   ]
  },
  {
   "cell_type": "code",
   "execution_count": 112,
   "metadata": {},
   "outputs": [],
   "source": [
    "#data will be stored as numpy array\n",
    "def store_data(path,ch4,ch5,ch6):\n",
    "    for file in sorted(os.listdir(path),reverse=True):\n",
    "        image_path=path+file\n",
    "        img=rasterio.open(image_path)\n",
    "        img_arr=img.read(1)\n",
    "        img_arr=cv2.resize(img_arr,(32,64))\n",
    "        if 'Ch4' in file:\n",
    "            ch4.append(img_arr)\n",
    "        if 'Ch5' in file:\n",
    "            ch5.append(img_arr)\n",
    "        if 'Ch6' in file:\n",
    "            ch6.append(img_arr)\n",
    "        img.close()\n",
    "\n",
    "    ch4 = np.array(ch4)\n",
    "    ch5 = np.array(ch5)\n",
    "    ch6 = np.array(ch6)\n"
   ]
  },
  {
   "cell_type": "code",
   "execution_count": 113,
   "metadata": {},
   "outputs": [],
   "source": [
    "#data will be converted to rgb images\n",
    "def rgb_converter(path,ch4,ch5,ch6,rgb4,rgb5,rgb6):\n",
    "    for img in ch4:\n",
    "        norm = cv2.normalize(img, None, alpha=0, beta=255, norm_type=cv2.NORM_MINMAX, dtype=cv2.CV_8U)\n",
    "        norm = cv2.cvtColor(norm, cv2.COLOR_GRAY2RGB)\n",
    "        rgb4.append(norm)\n",
    "    for img in ch5:\n",
    "        norm = cv2.normalize(img, None, alpha=0, beta=255, norm_type=cv2.NORM_MINMAX, dtype=cv2.CV_8U)\n",
    "        norm = cv2.cvtColor(norm, cv2.COLOR_GRAY2RGB)\n",
    "        rgb5.append(norm)\n",
    "    for img in ch6:\n",
    "        norm = cv2.normalize(img, None, alpha=0, beta=255, norm_type=cv2.NORM_MINMAX, dtype=cv2.CV_8U)\n",
    "        norm = cv2.cvtColor(norm, cv2.COLOR_GRAY2RGB)\n",
    "        rgb6.append(norm)\n",
    "\n",
    "    rgb4=np.array(rgb4)\n",
    "    rgb5=np.array(rgb5)\n",
    "    rgb6=np.array(rgb6)\n"
   ]
  },
  {
   "cell_type": "code",
   "execution_count": 114,
   "metadata": {},
   "outputs": [],
   "source": [
    "store_data(p_exe1a,exe1a_ch4,exe1a_ch5,exe1a_ch6)\n",
    "rgb_converter(p_exe1a,exe1a_ch4,exe1a_ch5,exe1a_ch6,exe1a_ch4_rgb,exe1a_ch5_rgb,exe1a_ch6_rgb)\n",
    "\n",
    "store_data(p_ros6,ros6_ch4,ros6_ch5,ros6_ch6)\n",
    "rgb_converter(p_ros6,ros6_ch4,ros6_ch5,ros6_ch6,ros6_ch4_rgb,ros6_ch5_rgb,ros6_ch6_rgb)\n",
    "\n",
    "store_data(p_ros9,ros9_ch4,ros9_ch5,ros9_ch6)\n",
    "rgb_converter(p_ros9,ros9_ch4,ros9_ch5,ros9_ch6,ros9_ch4_rgb,ros9_ch5_rgb,ros9_ch6_rgb)\n",
    "\n",
    "store_data(p_ros12,ros12_ch4,ros12_ch5,ros12_ch6)\n",
    "rgb_converter(p_ros12,ros12_ch4,ros12_ch5,ros12_ch6,ros12_ch4_rgb,ros12_ch5_rgb,ros12_ch6_rgb)\n",
    "\n",
    "store_data(p_ros13,ros13_ch4,ros13_ch5,ros13_ch6)\n",
    "rgb_converter(p_ros13,ros13_ch4,ros13_ch5,ros13_ch6,ros13_ch4_rgb,ros13_ch5_rgb,ros13_ch6_rgb)\n",
    "\n",
    "store_data(p_ros23,ros23_ch4,ros23_ch5,ros23_ch6)\n",
    "rgb_converter(p_ros23,ros23_ch4,ros23_ch5,ros23_ch6,ros23_ch4_rgb,ros23_ch5_rgb,ros23_ch6_rgb)"
   ]
  },
  {
   "cell_type": "code",
   "execution_count": 115,
   "metadata": {},
   "outputs": [],
   "source": [
    "store_data(p_exe1a_test,exe1a_ch4_test,exe1a_ch5_test,exe1a_ch6_test)\n",
    "rgb_converter(p_exe1a_test,exe1a_ch4_test,exe1a_ch5_test,exe1a_ch6_test,exe1a_ch4_rgb_test,exe1a_ch5_rgb_test,exe1a_ch6_rgb_test)\n",
    "\n",
    "store_data(p_ros6_test,ros6_ch4_test,ros6_ch5_test,ros6_ch6_test)\n",
    "rgb_converter(p_ros6_test,ros6_ch4_test,ros6_ch5_test,ros6_ch6_test,ros6_ch4_rgb_test,ros6_ch5_rgb_test,ros6_ch6_rgb_test)\n",
    "\n",
    "store_data(p_ros9_test,ros9_ch4_test,ros9_ch5_test,ros9_ch6_test)\n",
    "rgb_converter(p_ros9_test,ros9_ch4_test,ros9_ch5_test,ros9_ch6_test,ros9_ch4_rgb_test,ros9_ch5_rgb_test,ros9_ch6_rgb_test)\n",
    "\n",
    "store_data(p_ros12_test,ros12_ch4_test,ros12_ch5_test,ros12_ch6_test)\n",
    "rgb_converter(p_ros12_test,ros12_ch4_test,ros12_ch5_test,ros12_ch6_test,ros12_ch4_rgb_test,ros12_ch5_rgb_test,ros12_ch6_rgb_test)\n",
    "\n",
    "store_data(p_ros13_test,ros13_ch4_test,ros13_ch5_test,ros13_ch6_test)\n",
    "rgb_converter(p_ros13_test,ros13_ch4_test,ros13_ch5_test,ros13_ch6_test,ros13_ch4_rgb_test,ros13_ch5_rgb_test,ros13_ch6_rgb_test)\n",
    "\n",
    "store_data(p_ros23_test,ros23_ch4_test,ros23_ch5_test,ros23_ch6_test)\n",
    "rgb_converter(p_ros23_test,ros23_ch4_test,ros23_ch5_test,ros23_ch6_test,ros23_ch4_rgb_test,ros23_ch5_rgb_test,ros23_ch6_rgb_test)"
   ]
  },
  {
   "cell_type": "code",
   "execution_count": 116,
   "metadata": {},
   "outputs": [
    {
     "name": "stdout",
     "output_type": "stream",
     "text": [
      "(64, 32, 3) uint8\n",
      "0 255\n"
     ]
    },
    {
     "data": {
      "image/png": "[encoded data removed]",
      "text/plain": [
       "<PIL.Image.Image image mode=RGB size=32x64>"
      ]
     },
     "execution_count": 116,
     "metadata": {},
     "output_type": "execute_result"
    }
   ],
   "source": [
    "norm=exe1a_ch4_rgb[110]\n",
    "print(norm.shape, norm.dtype)\n",
    "print(np.amin(norm),np.amax(norm))\n",
    "import PIL\n",
    "PIL.Image.fromarray(norm)\n"
   ]
  },
  {
   "cell_type": "code",
   "execution_count": 117,
   "metadata": {},
   "outputs": [
    {
     "name": "stdout",
     "output_type": "stream",
     "text": [
      "2573\n",
      "2568\n",
      "2569\n",
      "2570\n",
      "2500\n",
      "2502\n",
      "[[[95 95 95]\n",
      "  [93 93 93]\n",
      "  [93 93 93]\n",
      "  ...\n",
      "  [98 98 98]\n",
      "  [97 97 97]\n",
      "  [96 96 96]]\n",
      "\n",
      " [[94 94 94]\n",
      "  [94 94 94]\n",
      "  [95 95 95]\n",
      "  ...\n",
      "  [98 98 98]\n",
      "  [98 98 98]\n",
      "  [97 97 97]]\n",
      "\n",
      " [[95 95 95]\n",
      "  [96 96 96]\n",
      "  [97 97 97]\n",
      "  ...\n",
      "  [95 95 95]\n",
      "  [96 96 96]\n",
      "  [96 96 96]]\n",
      "\n",
      " ...\n",
      "\n",
      " [[98 98 98]\n",
      "  [98 98 98]\n",
      "  [96 96 96]\n",
      "  ...\n",
      "  [95 95 95]\n",
      "  [96 96 96]\n",
      "  [95 95 95]]\n",
      "\n",
      " [[96 96 96]\n",
      "  [96 96 96]\n",
      "  [95 95 95]\n",
      "  ...\n",
      "  [93 93 93]\n",
      "  [94 94 94]\n",
      "  [93 93 93]]\n",
      "\n",
      " [[97 97 97]\n",
      "  [97 97 97]\n",
      "  [93 93 93]\n",
      "  ...\n",
      "  [95 95 95]\n",
      "  [95 95 95]\n",
      "  [93 93 93]]]\n"
     ]
    }
   ],
   "source": [
    "TRAIN=[exe1a_ch4_rgb,ros6_ch4_rgb, ros9_ch4_rgb,ros12_ch4_rgb,ros13_ch4_rgb,ros23_ch4_rgb]\n",
    "x_train=[]\n",
    "for cellType in TRAIN:\n",
    "    for img in cellType:\n",
    "        x_train.append(img)\n",
    "x_train=np.array(x_train)\n",
    "print(len(exe1a_ch4_rgb))\n",
    "print(len(ros6_ch4_rgb))\n",
    "print(len(ros9_ch4_rgb))\n",
    "print(len(ros12_ch4_rgb))\n",
    "print(len(ros13_ch4_rgb))\n",
    "print(len(ros23_ch4_rgb))\n",
    "\n",
    "PIL.Image.fromarray(x_train[5141])\n",
    "print(x_train[1])"
   ]
  },
  {
   "cell_type": "code",
   "execution_count": 119,
   "metadata": {},
   "outputs": [],
   "source": [
    "from PIL import Image\n",
    "a=0\n",
    "for img in x_train[0:2573]:\n",
    "    jpg = Image.fromarray(img, \"RGB\")\n",
    "    jpg.save(f\"/home/avni/Desktop/ch4_jpg/ch4/train/EXE-1a_m4/{a}.jpg\")   \n",
    "    a+=1"
   ]
  },
  {
   "cell_type": "code",
   "execution_count": 120,
   "metadata": {},
   "outputs": [],
   "source": [
    "from PIL import Image\n",
    "a=0\n",
    "for img in x_train[2573:5141]:\n",
    "    jpg = Image.fromarray(img, \"RGB\")\n",
    "    jpg.save(f\"/home/avni/Desktop/ch4_jpg/ch4/train/ROS-6_m3/{a}.jpg\")   \n",
    "    a+=1"
   ]
  },
  {
   "cell_type": "code",
   "execution_count": 121,
   "metadata": {},
   "outputs": [],
   "source": [
    "from PIL import Image\n",
    "a=0\n",
    "for img in x_train[5141:7710]:\n",
    "    jpg = Image.fromarray(img, \"RGB\")\n",
    "    jpg.save(f\"/home/avni/Desktop/ch4_jpg/ch4/train/ROS-9_m4/{a}.jpg\")   \n",
    "    a+=1"
   ]
  },
  {
   "cell_type": "code",
   "execution_count": 122,
   "metadata": {},
   "outputs": [],
   "source": [
    "from PIL import Image\n",
    "a=0\n",
    "for img in x_train[7710:10280]:\n",
    "    jpg = Image.fromarray(img, \"RGB\")\n",
    "    jpg.save(f\"/home/avni/Desktop/ch4_jpg/ch4/train/ROS-12_m4/{a}.jpg\")   \n",
    "    a+=1"
   ]
  },
  {
   "cell_type": "code",
   "execution_count": 123,
   "metadata": {},
   "outputs": [],
   "source": [
    "from PIL import Image\n",
    "a=0\n",
    "for img in x_train[10280:12780]:\n",
    "    jpg = Image.fromarray(img, \"RGB\")\n",
    "    jpg.save(f\"/home/avni/Desktop/ch4_jpg/ch4/train/ROS-13_m3/{a}.jpg\")   \n",
    "    a+=1"
   ]
  },
  {
   "cell_type": "code",
   "execution_count": 124,
   "metadata": {},
   "outputs": [],
   "source": [
    "from PIL import Image\n",
    "a=0\n",
    "for img in x_train[12780:15282]:\n",
    "    jpg = Image.fromarray(img, \"RGB\")\n",
    "    jpg.save(f\"/home/avni/Desktop/ch4_jpg/ch4/train/ROS-23_m2/{a}.jpg\")   \n",
    "    a+=1"
   ]
  },
  {
   "cell_type": "code",
   "execution_count": 125,
   "metadata": {},
   "outputs": [
    {
     "name": "stdout",
     "output_type": "stream",
     "text": [
      "750\n",
      "750\n",
      "750\n",
      "750\n",
      "750\n",
      "750\n"
     ]
    },
    {
     "data": {
      "image/png": "[encoded data removed]",
      "text/plain": [
       "<PIL.Image.Image image mode=RGB size=32x64>"
      ]
     },
     "execution_count": 125,
     "metadata": {},
     "output_type": "execute_result"
    }
   ],
   "source": [
    "TEST=[exe1a_ch4_rgb_test,ros6_ch4_rgb_test, ros9_ch4_rgb_test,ros12_ch4_rgb_test,ros13_ch4_rgb_test,ros23_ch4_rgb_test]\n",
    "x_test=[]\n",
    "for cellType in TEST:\n",
    "    for img in cellType:\n",
    "        x_test.append(img)\n",
    "x_test=np.array(x_test)\n",
    "print(len(exe1a_ch4_rgb_test))\n",
    "print(len(ros6_ch4_rgb_test))\n",
    "print(len(ros9_ch4_rgb_test))\n",
    "print(len(ros12_ch4_rgb_test))\n",
    "print(len(ros13_ch4_rgb_test))\n",
    "print(len(ros23_ch4_rgb_test))\n",
    "\n",
    "PIL.Image.fromarray(x_test[4000])"
   ]
  },
  {
   "cell_type": "code",
   "execution_count": 126,
   "metadata": {},
   "outputs": [],
   "source": [
    "from PIL import Image\n",
    "a=0\n",
    "for img in x_test[0:750]:\n",
    "    jpg = Image.fromarray(img, \"RGB\")\n",
    "    jpg.save(f\"/home/avni/Desktop/ch4_jpg/ch4/test/EXE-1a_m4/{a}.jpg\")   \n",
    "    a+=1"
   ]
  },
  {
   "cell_type": "code",
   "execution_count": 127,
   "metadata": {},
   "outputs": [],
   "source": [
    "from PIL import Image\n",
    "a=0\n",
    "for img in x_test[750:1500]:\n",
    "    jpg = Image.fromarray(img, \"RGB\")\n",
    "    jpg.save(f\"/home/avni/Desktop/ch4_jpg/ch4/test/ROS-6_m3/{a}.jpg\")   \n",
    "    a+=1"
   ]
  },
  {
   "cell_type": "code",
   "execution_count": 128,
   "metadata": {},
   "outputs": [],
   "source": [
    "from PIL import Image\n",
    "a=0\n",
    "for img in x_test[1500:2250]:\n",
    "    jpg = Image.fromarray(img, \"RGB\")\n",
    "    jpg.save(f\"/home/avni/Desktop/ch4_jpg/ch4/test/ROS-9_m4/{a}.jpg\")   \n",
    "    a+=1"
   ]
  },
  {
   "cell_type": "code",
   "execution_count": 129,
   "metadata": {},
   "outputs": [],
   "source": [
    "from PIL import Image\n",
    "a=0\n",
    "for img in x_test[2250:3000]:\n",
    "    jpg = Image.fromarray(img, \"RGB\")\n",
    "    jpg.save(f\"/home/avni/Desktop/ch4_jpg/ch4/test/ROS-12_m4/{a}.jpg\")   \n",
    "    a+=1"
   ]
  },
  {
   "cell_type": "code",
   "execution_count": 130,
   "metadata": {},
   "outputs": [],
   "source": [
    "from PIL import Image\n",
    "a=0\n",
    "for img in x_test[3000:3750]:\n",
    "    jpg = Image.fromarray(img, \"RGB\")\n",
    "    jpg.save(f\"/home/avni/Desktop/ch4_jpg/ch4/test/ROS-13_m3/{a}.jpg\")   \n",
    "    a+=1"
   ]
  },
  {
   "cell_type": "code",
   "execution_count": 131,
   "metadata": {},
   "outputs": [],
   "source": [
    "from PIL import Image\n",
    "a=0\n",
    "for img in x_test[3750:4500]:\n",
    "    jpg = Image.fromarray(img, \"RGB\")\n",
    "    jpg.save(f\"/home/avni/Desktop/ch4_jpg/ch4/test/ROS-23_m2/{a}.jpg\")   \n",
    "    a+=1"
   ]
  },
  {
   "cell_type": "code",
   "execution_count": null,
   "metadata": {},
   "outputs": [],
   "source": []
  }
 ],
 "metadata": {
  "kernelspec": {
   "display_name": "tf",
   "language": "python",
   "name": "python3"
  },
  "language_info": {
   "codemirror_mode": {
    "name": "ipython",
    "version": 3
   },
   "file_extension": ".py",
   "mimetype": "text/x-python",
   "name": "python",
   "nbconvert_exporter": "python",
   "pygments_lexer": "ipython3",
   "version": "3.9.15 (main, Nov 24 2022, 14:31:59) \n[GCC 11.2.0]"
  },
  "orig_nbformat": 4,
  "vscode": {
   "interpreter": {
    "hash": "b593b8b50c34369e4b8962c8b4bb01b80f3d680a6d3fd77992da7f7d3790431d"
   }
  }
 },
 "nbformat": 4,
 "nbformat_minor": 2
}
